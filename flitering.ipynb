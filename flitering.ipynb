{
  "metadata": {
    "language_info": {
      "codemirror_mode": {
        "name": "python",
        "version": 3
      },
      "file_extension": ".py",
      "mimetype": "text/x-python",
      "name": "python",
      "nbconvert_exporter": "python",
      "pygments_lexer": "ipython3",
      "version": "3.8"
    },
    "kernelspec": {
      "name": "python",
      "display_name": "Python (Pyodide)",
      "language": "python"
    }
  },
  "nbformat_minor": 4,
  "nbformat": 4,
  "cells": [
    {
      "cell_type": "code",
      "source": "import cv2\nimport numpy as np\nimport matplotlib.pyplot as plt\n\n# open the image f\nf = cv2.imread('test_data.jpeg',0)\n\nplt.figure(figsize=(5,5))\nplt.imshow(f, cmap='gray')\nplt.axis('off')\nplt.show()\n\n# transform the image into frequency domain, f --> F\nF = np.fft.fft2(f)\nFshift = np.fft.fftshift(F)\n\nplt.figure(figsize=(5,5))\nplt.imshow(np.log1p(np.abs(F)), cmap='gray')\nplt.axis('off')\nplt.show()\n\nplt.figure(figsize=(5,5))\nplt.imshow(np.log1p(np.abs(Fshift)), cmap='gray')\nplt.axis('off')\nplt.show()\n\n# Create Gaussin Filter: Low Pass Filter\nM,N = f.shape\nH = np.zeros((M,N), dtype=np.float32)\nD0 = 10\nfor u in range(M):\n    for v in range(N):\n        D = np.sqrt((u-M/2)**2 + (v-N/2)**2)\n        H[u,v] = np.exp(-D**2/(2*D0*D0))\n\nplt.figure(figsize=(5,5))\nplt.imshow(H, cmap='gray')\nplt.axis('off')\nplt.show()\n\n# Image Filters\nGshift = Fshift * H\nG = np.fft.ifftshift(Gshift)\ng = np.abs(np.fft.ifft2(G))\n\nplt.figure(figsize=(5,5))\nplt.imshow(g, cmap='gray')\nplt.axis('off')\nplt.show()\n\nplt.figure(figsize=(5,5))\nplt.imshow(np.log1p(np.abs(Gshift)), cmap='gray')\nplt.axis('off')\nplt.show()\n\nplt.figure(figsize=(5,5))\nplt.imshow(np.log1p(np.abs(G)), cmap='gray')\nplt.axis('off')\nplt.show()\n\n# Gaussian: High pass filter\nHPF = 1 - H\n\nplt.figure(figsize=(5,5))\nplt.imshow(HPF, cmap='gray')\nplt.axis('off')\nplt.show()\n\n# Image Filters\nGshift = Fshift * HPF\nG = np.fft.ifftshift(Gshift)\ng = np.abs(np.fft.ifft2(G))\n\nplt.figure(figsize=(5,5))\nplt.imshow(g, cmap='gray')\nplt.axis('off')\nplt.show()\n\nplt.figure(figsize=(5,5))\nplt.imshow(np.log1p(np.abs(Gshift)), cmap='gray')\nplt.axis('off')\nplt.show()\n\nplt.figure(figsize=(5,5))\nplt.imshow(np.log1p(np.abs(G)), cmap='gray')\nplt.axis('off')\nplt.show()\n\n",
      "metadata": {},
      "execution_count": null,
      "outputs": []
    }
  ]
}