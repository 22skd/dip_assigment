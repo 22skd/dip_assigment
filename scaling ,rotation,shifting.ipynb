{
  "metadata": {
    "language_info": {
      "codemirror_mode": {
        "name": "python",
        "version": 3
      },
      "file_extension": ".py",
      "mimetype": "text/x-python",
      "name": "python",
      "nbconvert_exporter": "python",
      "pygments_lexer": "ipython3",
      "version": "3.8"
    },
    "kernelspec": {
      "name": "python",
      "display_name": "Python (Pyodide)",
      "language": "python"
    }
  },
  "nbformat_minor": 4,
  "nbformat": 4,
  "cells": [
    {
      "cell_type": "code",
      "source": "import cv2\nimport numpy as np\n#image scaling using cv2 and numpy\nFILE_NAME = 'test_data.jpeg'\ntry:\n    # Read image from disk.\n    img = cv2.imread(FILE_NAME)\n\n    # Get number of pixel horizontally and vertically.\n    (height, width) = img.shape[:2]\n\n    # Specify the size of image along with interpolation methods.\n    # cv2.INTER_AREA is used for shrinking, whereas cv2.INTER_CUBIC\n    # is used for zooming.\n    res = cv2.resize(img, (int(width / 2), int(height / 2)), interpolation = cv2.INTER_CUBIC)\n\n    # Write image back to disk.\n    cv2.imwrite('result.jpg', res)\n\nexcept IOError:\n    print ('Error while reading files !!!')\n",
      "metadata": {
        "trusted": true
      },
      "execution_count": 9,
      "outputs": []
    },
    {
      "cell_type": "code",
      "source": " # Rotating an image :- Images can be rotated to any degree clockwise or otherwise.\n# We just need to define rotation matrix listing rotation point,\n# degree of rotation and the scaling factor.\n\nimport cv2\nimport numpy as np\n\nFILE_NAME = 'download.jfif'\ntry:\n\t# Read image from the disk.\n\timg = cv2.imread(FILE_NAME)\n\n\t# Shape of image in terms of pixels.\n\t(rows, cols) = img.shape[:2]\n\n\t# getRotationMatrix2D creates a matrix needed for transformation.\n\t# We want matrix for rotation w.r.t center to 45 degree without scaling.\n\tM = cv2.getRotationMatrix2D((cols / 2, rows / 2), 45, 1)\n\tres = cv2.warpAffine(img, M, (cols, rows))\n\n\t# Write image back to disk.\n\tcv2.imwrite('rotate.jpg', res)\nexcept IOError:\n\tprint ('Error while reading files !!!')\n",
      "metadata": {
        "trusted": true
      },
      "execution_count": 6,
      "outputs": []
    },
    {
      "cell_type": "code",
      "source": "import cv2\nimport numpy as np\n\nFILE_NAME = 'download.jfif'\n# Create translation matrix.\n# If the shift is (x, y) then matrix would be\n# M = [1 0 x]\n#\t [0 1 y]\n# Let's shift by (100, 50).\nM = np.float32([[1, 0, 100], [0, 1, 50]])\n\ntry:\n\n\t# Read image from disk.\n\timg = cv2.imread(FILE_NAME)\n\t(rows, cols) = img.shape[:2]\n\n\t# warpAffine does appropriate shifting given the\n\t# translation matrix.\n\tres = cv2.warpAffine(img, M, (cols, rows))\n\n\t# Write image back to disk.\n\tcv2.imwrite('shift.jpg', res)\n\nexcept IOError:\n\tprint ('Error while reading files !!!')\n",
      "metadata": {
        "trusted": true
      },
      "execution_count": 8,
      "outputs": []
    },
    {
      "cell_type": "code",
      "source": "",
      "metadata": {},
      "execution_count": null,
      "outputs": []
    }
  ]
}